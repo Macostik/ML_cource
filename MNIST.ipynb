{
  "nbformat": 4,
  "nbformat_minor": 0,
  "metadata": {
    "colab": {
      "provenance": [],
      "authorship_tag": "ABX9TyNbY2Rl5Wq4XId+KCmV2Oqi",
      "include_colab_link": true
    },
    "kernelspec": {
      "name": "python3",
      "display_name": "Python 3"
    },
    "language_info": {
      "name": "python"
    }
  },
  "cells": [
    {
      "cell_type": "markdown",
      "metadata": {
        "id": "view-in-github",
        "colab_type": "text"
      },
      "source": [
        "<a href=\"https://colab.research.google.com/github/Macostik/ML_cource/blob/main/MNIST.ipynb\" target=\"_parent\"><img src=\"https://colab.research.google.com/assets/colab-badge.svg\" alt=\"Open In Colab\"/></a>"
      ]
    },
    {
      "cell_type": "code",
      "execution_count": 204,
      "metadata": {
        "id": "Vt92nhSXE95H"
      },
      "outputs": [],
      "source": [
        "import numpy as np\n",
        "import matplotlib.pyplot as plt\n",
        "from tensorflow import keras\n",
        "from keras import models\n",
        "from keras import layers\n",
        "from keras import utils\n",
        "from sklearn.metrics import confusion_matrix\n",
        "import seaborn as sns\n",
        "from keras.datasets import mnist\n",
        "from keras.models import Sequential\n",
        "from keras.layers import Dense, Dropout, Flatten, BatchNormalization, MaxPooling2D"
      ]
    },
    {
      "cell_type": "markdown",
      "source": [
        "## Load MNIST data"
      ],
      "metadata": {
        "id": "Vfbq99b3ICdQ"
      }
    },
    {
      "cell_type": "code",
      "source": [
        "# Get separate data\n",
        "(X_train, y_train), (X_test, y_test) = mnist.load_data()\n",
        "\n",
        "print(X_train.shape, y_train.shape)\n",
        "print(X_test.shape, y_test.shape)"
      ],
      "metadata": {
        "colab": {
          "base_uri": "https://localhost:8080/"
        },
        "id": "Wxvy9iaIH74P",
        "outputId": "808ad355-541c-49a9-abc6-53338fdad64d"
      },
      "execution_count": 205,
      "outputs": [
        {
          "output_type": "stream",
          "name": "stdout",
          "text": [
            "(60000, 28, 28) (60000,)\n",
            "(10000, 28, 28) (10000,)\n"
          ]
        }
      ]
    },
    {
      "cell_type": "markdown",
      "source": [
        "## Visualize"
      ],
      "metadata": {
        "id": "zAYPfbGBd-gq"
      }
    },
    {
      "cell_type": "code",
      "source": [
        "# Plot data set\n",
        "num_classes = 10\n",
        "\n",
        "fig, ax = plt.subplots(1, num_classes, figsize=(20,6))\n",
        "\n",
        "for i in range(num_classes):\n",
        "  sample = X_train[y_train == i][0]\n",
        "  ax[i].imshow(sample, cmap=\"Greys\")\n",
        "  ax[i].set_title(f\"Class {i}\")"
      ],
      "metadata": {
        "colab": {
          "base_uri": "https://localhost:8080/",
          "height": 214
        },
        "id": "YmzZOJ59eB-D",
        "outputId": "fbbec7d4-6ad1-48e3-e566-e68bd04b7335"
      },
      "execution_count": 206,
      "outputs": [
        {
          "output_type": "display_data",
          "data": {
            "text/plain": [
              "<Figure size 2000x600 with 10 Axes>"
            ],
            "image/png": "[encoded data removed]"
          },
          "metadata": {}
        }
      ]
    },
    {
      "cell_type": "markdown",
      "source": [
        "Encode value"
      ],
      "metadata": {
        "id": "XXR9fN41_5ZD"
      }
    },
    {
      "cell_type": "code",
      "source": [
        "# One hot encoding target\n",
        "y_train = keras.utils.to_categorical(y_train, num_classes)\n",
        "y_test = keras.utils.to_categorical(y_test, num_classes)\n",
        "\n",
        "for i in range(10):\n",
        "  print(y_train[i])\n"
      ],
      "metadata": {
        "colab": {
          "base_uri": "https://localhost:8080/"
        },
        "id": "GQGubbD9fLWm",
        "outputId": "6fff07d4-25fd-4979-b5b5-fdf375ab3b40"
      },
      "execution_count": 207,
      "outputs": [
        {
          "output_type": "stream",
          "name": "stdout",
          "text": [
            "[0. 0. 0. 0. 0. 1. 0. 0. 0. 0.]\n",
            "[1. 0. 0. 0. 0. 0. 0. 0. 0. 0.]\n",
            "[0. 0. 0. 0. 1. 0. 0. 0. 0. 0.]\n",
            "[0. 1. 0. 0. 0. 0. 0. 0. 0. 0.]\n",
            "[0. 0. 0. 0. 0. 0. 0. 0. 0. 1.]\n",
            "[0. 0. 1. 0. 0. 0. 0. 0. 0. 0.]\n",
            "[0. 1. 0. 0. 0. 0. 0. 0. 0. 0.]\n",
            "[0. 0. 0. 1. 0. 0. 0. 0. 0. 0.]\n",
            "[0. 1. 0. 0. 0. 0. 0. 0. 0. 0.]\n",
            "[0. 0. 0. 0. 1. 0. 0. 0. 0. 0.]\n"
          ]
        }
      ]
    },
    {
      "cell_type": "markdown",
      "source": [
        "Make sure that each target is unique and does not confuse each other"
      ],
      "metadata": {
        "id": "_CqGYoFUASLn"
      }
    },
    {
      "cell_type": "markdown",
      "source": [
        "Reshape data to format (n, 28, 28, 1)"
      ],
      "metadata": {
        "id": "g8U3wN4gAiIT"
      }
    },
    {
      "cell_type": "code",
      "source": [
        "img_rows, img_cols = 28, 28\n",
        "\n",
        "# Reshape data set\n",
        "# Preprocess the data\n",
        "X_train = X_train.reshape(-1, img_rows * img_cols)\n",
        "X_test = X_test.reshape(-1, img_rows * img_cols)\n",
        "\n",
        "# Convert to float32\n",
        "X_train = X_train.astype('float32')\n",
        "X_test = X_test.astype('float32')\n",
        "\n",
        "# Convert to RGB\n",
        "X_train /= 255.\n",
        "X_test /= 255.\n",
        "\n",
        "print('X_train:\\t{}' .format(X_train.shape),' -reshaped')\n",
        "print('X_test: \\t{}' .format(X_test.shape),' -reshaped')"
      ],
      "metadata": {
        "colab": {
          "base_uri": "https://localhost:8080/"
        },
        "id": "-_1c3CsGfRx8",
        "outputId": "61a94cb7-28e3-49ef-b308-a9831a2ae04c"
      },
      "execution_count": 208,
      "outputs": [
        {
          "output_type": "stream",
          "name": "stdout",
          "text": [
            "X_train:\t(60000, 784)  -reshaped\n",
            "X_test: \t(10000, 784)  -reshaped\n"
          ]
        }
      ]
    },
    {
      "cell_type": "markdown",
      "source": [
        "## Create model"
      ],
      "metadata": {
        "id": "qW2reaNtAwv2"
      }
    },
    {
      "cell_type": "code",
      "source": [
        "# Instanitiating the model\n",
        "model = Sequential([\n",
        "    Dense(128, activation='relu', input_shape=(28 * 28,)),  # First Dense layer\n",
        "    Dense(10, activation='softmax')                        # Output layer\n",
        "])\n",
        "\n",
        "model.compile(optimizer='adam', loss='categorical_crossentropy', metrics=['accuracy'])\n",
        "model.summary()"
      ],
      "metadata": {
        "colab": {
          "base_uri": "https://localhost:8080/",
          "height": 247
        },
        "id": "q1352KrP-vBy",
        "outputId": "b5ba1eff-1b78-452f-9571-bbc265b2c4b2"
      },
      "execution_count": 209,
      "outputs": [
        {
          "output_type": "stream",
          "name": "stderr",
          "text": [
            "/usr/local/lib/python3.10/dist-packages/keras/src/layers/core/dense.py:87: UserWarning: Do not pass an `input_shape`/`input_dim` argument to a layer. When using Sequential models, prefer using an `Input(shape)` object as the first layer in the model instead.\n",
            "  super().__init__(activity_regularizer=activity_regularizer, **kwargs)\n"
          ]
        },
        {
          "output_type": "display_data",
          "data": {
            "text/plain": [
              "\u001b[1mModel: \"sequential_27\"\u001b[0m\n"
            ],
            "text/html": [
              "<pre style=\"white-space:pre;overflow-x:auto;line-height:normal;font-family:Menlo,'DejaVu Sans Mono',consolas,'Courier New',monospace\"><span style=\"font-weight: bold\">Model: \"sequential_27\"</span>\n",
              "</pre>\n"
            ]
          },
          "metadata": {}
        },
        {
          "output_type": "display_data",
          "data": {
            "text/plain": [
              "┏━━━━━━━━━━━━━━━━━━━━━━━━━━━━━━━━━━━━━━┳━━━━━━━━━━━━━━━━━━━━━━━━━━━━━┳━━━━━━━━━━━━━━━━━┓\n",
              "┃\u001b[1m \u001b[0m\u001b[1mLayer (type)                        \u001b[0m\u001b[1m \u001b[0m┃\u001b[1m \u001b[0m\u001b[1mOutput Shape               \u001b[0m\u001b[1m \u001b[0m┃\u001b[1m \u001b[0m\u001b[1m        Param #\u001b[0m\u001b[1m \u001b[0m┃\n",
              "┡━━━━━━━━━━━━━━━━━━━━━━━━━━━━━━━━━━━━━━╇━━━━━━━━━━━━━━━━━━━━━━━━━━━━━╇━━━━━━━━━━━━━━━━━┩\n",
              "│ dense_50 (\u001b[38;5;33mDense\u001b[0m)                     │ (\u001b[38;5;45mNone\u001b[0m, \u001b[38;5;34m128\u001b[0m)                 │         \u001b[38;5;34m100,480\u001b[0m │\n",
              "├──────────────────────────────────────┼─────────────────────────────┼─────────────────┤\n",
              "│ dense_51 (\u001b[38;5;33mDense\u001b[0m)                     │ (\u001b[38;5;45mNone\u001b[0m, \u001b[38;5;34m10\u001b[0m)                  │           \u001b[38;5;34m1,290\u001b[0m │\n",
              "└──────────────────────────────────────┴─────────────────────────────┴─────────────────┘\n"
            ],
            "text/html": [
              "<pre style=\"white-space:pre;overflow-x:auto;line-height:normal;font-family:Menlo,'DejaVu Sans Mono',consolas,'Courier New',monospace\">┏━━━━━━━━━━━━━━━━━━━━━━━━━━━━━━━━━━━━━━┳━━━━━━━━━━━━━━━━━━━━━━━━━━━━━┳━━━━━━━━━━━━━━━━━┓\n",
              "┃<span style=\"font-weight: bold\"> Layer (type)                         </span>┃<span style=\"font-weight: bold\"> Output Shape                </span>┃<span style=\"font-weight: bold\">         Param # </span>┃\n",
              "┡━━━━━━━━━━━━━━━━━━━━━━━━━━━━━━━━━━━━━━╇━━━━━━━━━━━━━━━━━━━━━━━━━━━━━╇━━━━━━━━━━━━━━━━━┩\n",
              "│ dense_50 (<span style=\"color: #0087ff; text-decoration-color: #0087ff\">Dense</span>)                     │ (<span style=\"color: #00d7ff; text-decoration-color: #00d7ff\">None</span>, <span style=\"color: #00af00; text-decoration-color: #00af00\">128</span>)                 │         <span style=\"color: #00af00; text-decoration-color: #00af00\">100,480</span> │\n",
              "├──────────────────────────────────────┼─────────────────────────────┼─────────────────┤\n",
              "│ dense_51 (<span style=\"color: #0087ff; text-decoration-color: #0087ff\">Dense</span>)                     │ (<span style=\"color: #00d7ff; text-decoration-color: #00d7ff\">None</span>, <span style=\"color: #00af00; text-decoration-color: #00af00\">10</span>)                  │           <span style=\"color: #00af00; text-decoration-color: #00af00\">1,290</span> │\n",
              "└──────────────────────────────────────┴─────────────────────────────┴─────────────────┘\n",
              "</pre>\n"
            ]
          },
          "metadata": {}
        },
        {
          "output_type": "display_data",
          "data": {
            "text/plain": [
              "\u001b[1m Total params: \u001b[0m\u001b[38;5;34m101,770\u001b[0m (397.54 KB)\n"
            ],
            "text/html": [
              "<pre style=\"white-space:pre;overflow-x:auto;line-height:normal;font-family:Menlo,'DejaVu Sans Mono',consolas,'Courier New',monospace\"><span style=\"font-weight: bold\"> Total params: </span><span style=\"color: #00af00; text-decoration-color: #00af00\">101,770</span> (397.54 KB)\n",
              "</pre>\n"
            ]
          },
          "metadata": {}
        },
        {
          "output_type": "display_data",
          "data": {
            "text/plain": [
              "\u001b[1m Trainable params: \u001b[0m\u001b[38;5;34m101,770\u001b[0m (397.54 KB)\n"
            ],
            "text/html": [
              "<pre style=\"white-space:pre;overflow-x:auto;line-height:normal;font-family:Menlo,'DejaVu Sans Mono',consolas,'Courier New',monospace\"><span style=\"font-weight: bold\"> Trainable params: </span><span style=\"color: #00af00; text-decoration-color: #00af00\">101,770</span> (397.54 KB)\n",
              "</pre>\n"
            ]
          },
          "metadata": {}
        },
        {
          "output_type": "display_data",
          "data": {
            "text/plain": [
              "\u001b[1m Non-trainable params: \u001b[0m\u001b[38;5;34m0\u001b[0m (0.00 B)\n"
            ],
            "text/html": [
              "<pre style=\"white-space:pre;overflow-x:auto;line-height:normal;font-family:Menlo,'DejaVu Sans Mono',consolas,'Courier New',monospace\"><span style=\"font-weight: bold\"> Non-trainable params: </span><span style=\"color: #00af00; text-decoration-color: #00af00\">0</span> (0.00 B)\n",
              "</pre>\n"
            ]
          },
          "metadata": {}
        }
      ]
    },
    {
      "cell_type": "code",
      "source": [
        "# Hyperparameters\n",
        "training_epochs = 10 # Total number of training epochs\n",
        "batch_size = 32 # The learning rate\n",
        "validation_split=0.2 # Split part of data set\n",
        "\n",
        "# Configure TensorBoard callback\n",
        "tensorboard_callback = keras.callbacks.TensorBoard(log_dir=\"./logs\")\n",
        "\n",
        "# Train the model\n",
        "model.fit(\n",
        "    X_train,\n",
        "    y_train,\n",
        "    epochs = training_epochs,\n",
        "    batch_size = batch_size,\n",
        "    validation_split = validation_split,\n",
        "    callbacks = [tensorboard_callback]\n",
        ")"
      ],
      "metadata": {
        "colab": {
          "base_uri": "https://localhost:8080/"
        },
        "id": "_H2im7SZHnFZ",
        "outputId": "cbf02867-955f-43b1-a0c9-f05adce3713e"
      },
      "execution_count": 210,
      "outputs": [
        {
          "output_type": "stream",
          "name": "stdout",
          "text": [
            "Epoch 1/10\n",
            "\u001b[1m1500/1500\u001b[0m \u001b[32m━━━━━━━━━━━━━━━━━━━━\u001b[0m\u001b[37m\u001b[0m \u001b[1m8s\u001b[0m 5ms/step - accuracy: 0.8627 - loss: 0.4813 - val_accuracy: 0.9581 - val_loss: 0.1495\n",
            "Epoch 2/10\n",
            "\u001b[1m1500/1500\u001b[0m \u001b[32m━━━━━━━━━━━━━━━━━━━━\u001b[0m\u001b[37m\u001b[0m \u001b[1m9s\u001b[0m 6ms/step - accuracy: 0.9611 - loss: 0.1339 - val_accuracy: 0.9657 - val_loss: 0.1200\n",
            "Epoch 3/10\n",
            "\u001b[1m1500/1500\u001b[0m \u001b[32m━━━━━━━━━━━━━━━━━━━━\u001b[0m\u001b[37m\u001b[0m \u001b[1m7s\u001b[0m 4ms/step - accuracy: 0.9740 - loss: 0.0895 - val_accuracy: 0.9715 - val_loss: 0.0939\n",
            "Epoch 4/10\n",
            "\u001b[1m1500/1500\u001b[0m \u001b[32m━━━━━━━━━━━━━━━━━━━━\u001b[0m\u001b[37m\u001b[0m \u001b[1m10s\u001b[0m 5ms/step - accuracy: 0.9815 - loss: 0.0623 - val_accuracy: 0.9740 - val_loss: 0.0876\n",
            "Epoch 5/10\n",
            "\u001b[1m1500/1500\u001b[0m \u001b[32m━━━━━━━━━━━━━━━━━━━━\u001b[0m\u001b[37m\u001b[0m \u001b[1m9s\u001b[0m 6ms/step - accuracy: 0.9863 - loss: 0.0477 - val_accuracy: 0.9753 - val_loss: 0.0816\n",
            "Epoch 6/10\n",
            "\u001b[1m1500/1500\u001b[0m \u001b[32m━━━━━━━━━━━━━━━━━━━━\u001b[0m\u001b[37m\u001b[0m \u001b[1m7s\u001b[0m 5ms/step - accuracy: 0.9893 - loss: 0.0374 - val_accuracy: 0.9755 - val_loss: 0.0857\n",
            "Epoch 7/10\n",
            "\u001b[1m1500/1500\u001b[0m \u001b[32m━━━━━━━━━━━━━━━━━━━━\u001b[0m\u001b[37m\u001b[0m \u001b[1m12s\u001b[0m 5ms/step - accuracy: 0.9912 - loss: 0.0309 - val_accuracy: 0.9737 - val_loss: 0.0918\n",
            "Epoch 8/10\n",
            "\u001b[1m1500/1500\u001b[0m \u001b[32m━━━━━━━━━━━━━━━━━━━━\u001b[0m\u001b[37m\u001b[0m \u001b[1m9s\u001b[0m 6ms/step - accuracy: 0.9937 - loss: 0.0224 - val_accuracy: 0.9737 - val_loss: 0.0951\n",
            "Epoch 9/10\n",
            "\u001b[1m1500/1500\u001b[0m \u001b[32m━━━━━━━━━━━━━━━━━━━━\u001b[0m\u001b[37m\u001b[0m \u001b[1m7s\u001b[0m 5ms/step - accuracy: 0.9957 - loss: 0.0170 - val_accuracy: 0.9748 - val_loss: 0.0908\n",
            "Epoch 10/10\n",
            "\u001b[1m1500/1500\u001b[0m \u001b[32m━━━━━━━━━━━━━━━━━━━━\u001b[0m\u001b[37m\u001b[0m \u001b[1m8s\u001b[0m 5ms/step - accuracy: 0.9966 - loss: 0.0141 - val_accuracy: 0.9728 - val_loss: 0.1046\n"
          ]
        },
        {
          "output_type": "execute_result",
          "data": {
            "text/plain": [
              "<keras.src.callbacks.history.History at 0x7cb97c715480>"
            ]
          },
          "metadata": {},
          "execution_count": 210
        }
      ]
    },
    {
      "cell_type": "markdown",
      "source": [
        "## Evaluate model"
      ],
      "metadata": {
        "id": "V5Q5mWq_Hm24"
      }
    },
    {
      "cell_type": "code",
      "source": [
        "print(\"Evaluating on training set...\")\n",
        "(loss, accuracy) = model.evaluate(X_train,y_train, verbose=0)\n",
        "print(\"loss={:.4f}, accuracy: {:.4f}%\".format(loss,accuracy * 100))\n",
        "\n",
        "\n",
        "print(\"Evaluating on testing set...\")\n",
        "(loss, accuracy) = model.evaluate(X_test, y_test, verbose=0)\n",
        "print(\"loss={:.4f}, accuracy: {:.4f}%\".format(loss,accuracy * 100))"
      ],
      "metadata": {
        "colab": {
          "base_uri": "https://localhost:8080/"
        },
        "id": "uinbpfkfLEm4",
        "outputId": "4230684d-222f-4072-818d-ad17e5953eaf"
      },
      "execution_count": 211,
      "outputs": [
        {
          "output_type": "stream",
          "name": "stdout",
          "text": [
            "Evaluating on training set...\n",
            "loss=0.0321, accuracy: 99.1383%\n",
            "Evaluating on testing set...\n",
            "loss=0.0932, accuracy: 97.5200%\n"
          ]
        }
      ]
    },
    {
      "cell_type": "markdown",
      "source": [
        "The accuracy value is almost equal to 1, loss value 0.09 for test and 0.03 for train model are very good"
      ],
      "metadata": {
        "id": "TqkR80ZeLTAz"
      }
    },
    {
      "cell_type": "markdown",
      "source": [
        "## Test the current model"
      ],
      "metadata": {
        "id": "G5YwV7MVNtxR"
      }
    },
    {
      "cell_type": "code",
      "source": [
        "# Pick the highest probability with \"np.argmax()\", and turn it into an index uing \"axis=1\"\n",
        "y_pred = model.predict(X_test)\n",
        "y_pred_classes = np.argmax(y_pred, axis=1)\n",
        "\n",
        "print(f\"Softmax predicted probability: {y_pred}\")\n",
        "print(f\"Probability based answer: {y_pred_classes}\")"
      ],
      "metadata": {
        "colab": {
          "base_uri": "https://localhost:8080/"
        },
        "id": "iN5HJvKgMfuO",
        "outputId": "ecdf63a5-d2d3-4591-a31c-7c63e66e403a"
      },
      "execution_count": 212,
      "outputs": [
        {
          "output_type": "stream",
          "name": "stdout",
          "text": [
            "\u001b[1m313/313\u001b[0m \u001b[32m━━━━━━━━━━━━━━━━━━━━\u001b[0m\u001b[37m\u001b[0m \u001b[1m1s\u001b[0m 3ms/step\n",
            "Softmax predicted probability: [[3.2559336e-10 1.3459833e-10 4.5634128e-09 ... 9.9998981e-01\n",
            "  3.3135166e-07 6.1117760e-07]\n",
            " [7.7134812e-11 8.4352519e-05 9.9991482e-01 ... 1.7332098e-15\n",
            "  1.0739806e-07 1.1253452e-16]\n",
            " [5.9738062e-07 9.9835527e-01 1.1021126e-04 ... 7.9102017e-04\n",
            "  6.7556312e-04 5.1693513e-07]\n",
            " ...\n",
            " [4.5780998e-18 7.0357182e-15 1.6808474e-15 ... 2.6046496e-07\n",
            "  1.1514418e-09 1.4040208e-07]\n",
            " [8.5158167e-16 1.0025436e-15 8.3475578e-19 ... 1.3399260e-14\n",
            "  8.3660421e-09 7.2221809e-16]\n",
            " [1.0678469e-09 1.6167765e-15 1.4634324e-08 ... 1.3506509e-15\n",
            "  2.8328292e-13 4.5749318e-11]]\n",
            "Probability based answer: [7 2 1 ... 4 5 6]\n"
          ]
        }
      ]
    },
    {
      "cell_type": "code",
      "source": [
        "# Select the random element from the data set\n",
        "random_num = np.random.choice(len(X_test))\n",
        "X_sample = X_test[random_num]\n",
        "\n",
        "# Target value\n",
        "y_true = np.argmax(y_test, axis=1)\n",
        "y_sample_true = y_true[random_num]\n",
        "\n",
        "# Predicted class\n",
        "y_sample_pred_class = y_pred_classes[random_num]\n",
        "\n",
        "plt.title(f\"Predicted: {y_sample_pred_class}, True:{y_sample_true}\")\n",
        "plt.imshow(X_sample.reshape(28, 28), cmap=\"Greys\");"
      ],
      "metadata": {
        "colab": {
          "base_uri": "https://localhost:8080/",
          "height": 452
        },
        "id": "L_VTl-LvLxw5",
        "outputId": "f9023762-455c-4767-f3ec-0bd4878c05ca"
      },
      "execution_count": 213,
      "outputs": [
        {
          "output_type": "display_data",
          "data": {
            "text/plain": [
              "<Figure size 640x480 with 1 Axes>"
            ],
            "image/png": "[encoded data removed]"
          },
          "metadata": {}
        }
      ]
    },
    {
      "cell_type": "markdown",
      "source": [
        "Our model predicted the random value, which equals 4 correctly\n"
      ],
      "metadata": {
        "id": "T8mQTJ5gNN_Q"
      }
    },
    {
      "cell_type": "code",
      "source": [
        "# PLot confusion matrix\n",
        "confusion_mtx = confusion_matrix(y_true, y_pred_classes)\n",
        "\n",
        "fig, ax = plt.subplots(figsize=(8, 6))\n",
        "ax = sns.heatmap(confusion_mtx, annot=True, fmt=\"d\", ax=ax)\n",
        "ax.set_xlabel(\"Predicted Class\")\n",
        "ax.set_ylabel(\"True Class\")\n",
        "ax.set_title(\"Confusion Matrix\");"
      ],
      "metadata": {
        "colab": {
          "base_uri": "https://localhost:8080/",
          "height": 564
        },
        "id": "a-J07ntCOEyd",
        "outputId": "b107fc5a-04aa-46e6-a519-359e112b37e2"
      },
      "execution_count": 214,
      "outputs": [
        {
          "output_type": "display_data",
          "data": {
            "text/plain": [
              "<Figure size 800x600 with 2 Axes>"
            ],
            "image/png": "[encoded data removed]"
          },
          "metadata": {}
        }
      ]
    },
    {
      "cell_type": "markdown",
      "source": [
        "In the confusion matrix plot, we can observe that value 5 is the more difficult value to predict for the current model."
      ],
      "metadata": {
        "id": "oGH2jY0wO0aD"
      }
    },
    {
      "cell_type": "markdown",
      "source": [
        "## Conclusion:\n",
        "We experimented with the MNIST data set successfully. Built the Sequential model with two neuron shapes, trained it, and got a good accuracy value. Save all trained and validation logs locally. Tested it with random value, and it works quite well."
      ],
      "metadata": {
        "id": "7ZpMYeNePc6L"
      }
    }
  ]
}